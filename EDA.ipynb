{
 "cells": [
  {
   "cell_type": "markdown",
   "id": "a6bae693",
   "metadata": {},
   "source": [
    "hey guys,\n",
    "\n",
    "In this blog we will be learning about EDA i.e Exploratory Data Analysis(EDA) techniques. Real life data can be very messy, which makes it hard to find insights for stake holders, hence we use EDA. These are techniques used for discovering patterns , check assumptions of statistical hypothesis, filter data, remove unwanted columns, prepare data for training."
   ]
  },
  {
   "cell_type": "markdown",
   "id": "ab6d73fb-d46a-4021-917d-2200efdc60c4",
   "metadata": {},
   "source": [
    "We will cover following topics today:\n",
    "    \n",
    "    1. CORRELATION ANALYSIS\n",
    "    2. DIMENSIONALITY REDUCTION\n",
    "    3. PLOTS N GRAPHS"
   ]
  },
  {
   "cell_type": "markdown",
   "id": "8ec880c6",
   "metadata": {},
   "source": [
    "## CORRELATION ANALYSIS"
   ]
  },
  {
   "cell_type": "markdown",
   "id": "4bf4b1a5",
   "metadata": {},
   "source": [
    "A quantity measuring the extent of the interdependence of variable quantities is called CORRELATION. \n",
    "why do you use it??\n",
    "\n",
    "if a column is strongly corelated with other column, for example- Age and Years of experience columns in a dataset , we can select either of the two which is more related to the target variable because it contributes more to the target variable. Hence corelation analysis can help us in feature selection.\n",
    "\n",
    "RANGE OF CORRELATION IS -1 TO +1 \n",
    "\n",
    "1. STRONG CORELATION ->   ±(0.75-1)\n",
    "\n",
    "2. MODERATE COR. -> ±(0.25-0.75)\n",
    "\n",
    "3. WEAK COR. -> ±(0-0.25)\n",
    "\n",
    "there are 2 types of correlation - \n",
    "1. karl pearson correlation\n",
    "2. spearman rank correlation "
   ]
  },
  {
   "cell_type": "markdown",
   "id": "6e05c791",
   "metadata": {},
   "source": [
    "## DIMENSIONALITY REDUCTION\n",
    "some datasets can range from having only 10 columns to sometimes 100 columns. dealing with such kind of data can make you scream and also you may get nightnmares. DIMENSION REDUCTION techniques can filter out less contributing features/variables or help us choose variables which are prominent and helpful for making a model. \n",
    "\n",
    "Techniques we use such as PCA,SVM,LDA, U-MAP, T-SNE etc."
   ]
  },
  {
   "cell_type": "markdown",
   "id": "c8959185-9d3d-4e6f-9d89-1a4aed9695d3",
   "metadata": {},
   "source": [
    "## PLOTS N GRAPHS\n",
    "\n",
    "numbers can be very confusing sometimes, but graphs are easy to read and understand. Hence we visualize our results, to make them easier to read. \n",
    "\n",
    "some types of graphs can be:\n",
    "\n",
    "1. BOXPLOT - used to find outliers in a variable. A data may have some value which is greater than the rest of the numeric range, for example- Range of age of employee is 20-60 but there may be some error while entering the values and someone wrote 100,120 , 600 invalid entry. we can find those using BOx plots.   \n",
    "2. HISTOGRAM - used to plot CONTINUOUS data, we can find its frequency of datapoints in a particular bin using Histogram. the only difference between HISTOGRAM & BARCHART : 'BARCHART is used for categorical data'\n",
    "4. SCATTER PLOT - with the help of scatter plot we can find: if any Linear relationship exist for LINEAR REGRESSION or not !!. we can also find corelation between two variables if the points are close.\n",
    "5. DENSITY PLOT - used to study distribution of the data. from this we can find SKEWNESS & KURTOSIS of a dataset visually.\n",
    "6. HEATMAP - used to show range of entries with their weights/values, the greater value will be more dark whereas small values are light colored."
   ]
  },
  {
   "cell_type": "code",
   "execution_count": 1,
   "id": "542a1645-f6e1-4e8a-b16a-c70e9d41852e",
   "metadata": {},
   "outputs": [],
   "source": [
    "import pandas as pd\n",
    "import seaborn as sns"
   ]
  },
  {
   "cell_type": "code",
   "execution_count": 6,
   "id": "3a30fb14-dfb4-4d25-b273-367ac11540ac",
   "metadata": {},
   "outputs": [
    {
     "data": {
      "text/html": [
       "<div>\n",
       "<style scoped>\n",
       "    .dataframe tbody tr th:only-of-type {\n",
       "        vertical-align: middle;\n",
       "    }\n",
       "\n",
       "    .dataframe tbody tr th {\n",
       "        vertical-align: top;\n",
       "    }\n",
       "\n",
       "    .dataframe thead th {\n",
       "        text-align: right;\n",
       "    }\n",
       "</style>\n",
       "<table border=\"1\" class=\"dataframe\">\n",
       "  <thead>\n",
       "    <tr style=\"text-align: right;\">\n",
       "      <th></th>\n",
       "      <th>age</th>\n",
       "      <th>sex</th>\n",
       "      <th>bmi</th>\n",
       "      <th>children</th>\n",
       "      <th>smoker</th>\n",
       "      <th>region</th>\n",
       "      <th>charges</th>\n",
       "    </tr>\n",
       "  </thead>\n",
       "  <tbody>\n",
       "    <tr>\n",
       "      <th>0</th>\n",
       "      <td>19</td>\n",
       "      <td>female</td>\n",
       "      <td>27.900</td>\n",
       "      <td>0</td>\n",
       "      <td>yes</td>\n",
       "      <td>southwest</td>\n",
       "      <td>16884.92400</td>\n",
       "    </tr>\n",
       "    <tr>\n",
       "      <th>1</th>\n",
       "      <td>18</td>\n",
       "      <td>male</td>\n",
       "      <td>33.770</td>\n",
       "      <td>1</td>\n",
       "      <td>no</td>\n",
       "      <td>southeast</td>\n",
       "      <td>1725.55230</td>\n",
       "    </tr>\n",
       "    <tr>\n",
       "      <th>2</th>\n",
       "      <td>28</td>\n",
       "      <td>male</td>\n",
       "      <td>33.000</td>\n",
       "      <td>3</td>\n",
       "      <td>no</td>\n",
       "      <td>southeast</td>\n",
       "      <td>4449.46200</td>\n",
       "    </tr>\n",
       "    <tr>\n",
       "      <th>3</th>\n",
       "      <td>33</td>\n",
       "      <td>male</td>\n",
       "      <td>22.705</td>\n",
       "      <td>0</td>\n",
       "      <td>no</td>\n",
       "      <td>northwest</td>\n",
       "      <td>21984.47061</td>\n",
       "    </tr>\n",
       "    <tr>\n",
       "      <th>4</th>\n",
       "      <td>32</td>\n",
       "      <td>male</td>\n",
       "      <td>28.880</td>\n",
       "      <td>0</td>\n",
       "      <td>no</td>\n",
       "      <td>northwest</td>\n",
       "      <td>3866.85520</td>\n",
       "    </tr>\n",
       "  </tbody>\n",
       "</table>\n",
       "</div>"
      ],
      "text/plain": [
       "   age     sex     bmi  children smoker     region      charges\n",
       "0   19  female  27.900         0    yes  southwest  16884.92400\n",
       "1   18    male  33.770         1     no  southeast   1725.55230\n",
       "2   28    male  33.000         3     no  southeast   4449.46200\n",
       "3   33    male  22.705         0     no  northwest  21984.47061\n",
       "4   32    male  28.880         0     no  northwest   3866.85520"
      ]
     },
     "execution_count": 6,
     "metadata": {},
     "output_type": "execute_result"
    }
   ],
   "source": [
    "df = pd.read_csv('datasets/insurance.csv')\n",
    "df.head()"
   ]
  },
  {
   "cell_type": "code",
   "execution_count": 7,
   "id": "8d2883f6-27e6-46e9-8e39-5a33597bc916",
   "metadata": {},
   "outputs": [
    {
     "data": {
      "text/plain": [
       "<AxesSubplot: >"
      ]
     },
     "execution_count": 7,
     "metadata": {},
     "output_type": "execute_result"
    },
    {
     "data": {
      "image/png": "[encoded data removed]",
      "text/plain": [
       "<Figure size 432x288 with 1 Axes>"
      ]
     },
     "metadata": {
      "needs_background": "light"
     },
     "output_type": "display_data"
    }
   ],
   "source": [
    "sns.boxplot(df['charges'])"
   ]
  }
 ],
 "metadata": {
  "kernelspec": {
   "display_name": "Python 3 (ipykernel)",
   "language": "python",
   "name": "python3"
  },
  "language_info": {
   "codemirror_mode": {
    "name": "ipython",
    "version": 3
   },
   "file_extension": ".py",
   "mimetype": "text/x-python",
   "name": "python",
   "nbconvert_exporter": "python",
   "pygments_lexer": "ipython3",
   "version": "3.8.10"
  },
  "toc-showmarkdowntxt": true,
  "widgets": {
   "application/vnd.jupyter.widget-state+json": {
    "state": {},
    "version_major": 2,
    "version_minor": 0
   }
  }
 },
 "nbformat": 4,
 "nbformat_minor": 5
}
