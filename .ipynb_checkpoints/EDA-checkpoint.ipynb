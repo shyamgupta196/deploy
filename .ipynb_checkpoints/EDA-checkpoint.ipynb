{
 "cells": [
  {
   "cell_type": "markdown",
   "id": "a6bae693",
   "metadata": {},
   "source": [
    "hey guys,\n",
    "\n",
    "In this blog we will be learning about EDA i.e Exploratory Data Analysis techniques. Real life data can be very messy, which makes it hard to find insights for stake holders, hence we use EDA. It is used for discovering patterns , check assumptions of statistical hypothesis, filter data, remove unwanted columns, prepare data for training."
   ]
  },
  {
   "cell_type": "markdown",
   "id": "8ec880c6",
   "metadata": {},
   "source": [
    "## correlation analysis !"
   ]
  },
  {
   "cell_type": "markdown",
   "id": "4bf4b1a5",
   "metadata": {},
   "source": [
    "A quantity measuring the extent of the interdependence of variable quantities is called CORRELATION. \n",
    "why do you use it??\n",
    "\n",
    "if a column is strongly corelated with a column, for example- Age and Years of experience columns in a dataset , we can select either of the two which is more related to the target variable because it contributes more to the target variable. Hence corelation analysis can help us in feature selection."
   ]
  },
  {
   "cell_type": "markdown",
   "id": "24f42773",
   "metadata": {},
   "source": [
    "## Plots "
   ]
  },
  {
   "cell_type": "markdown",
   "id": "ea37cca2",
   "metadata": {},
   "source": [
    "1. box plots - \n",
    "2. histograms - \n",
    "3. pareto chart - \n",
    "4. scatter plot - \n",
    "5. density plots - \n",
    "6. heatmaps - "
   ]
  },
  {
   "cell_type": "markdown",
   "id": "6e05c791",
   "metadata": {},
   "source": [
    "## dimensionality reduction "
   ]
  }
 ],
 "metadata": {
  "kernelspec": {
   "display_name": "Python 3 (ipykernel)",
   "language": "python",
   "name": "python3"
  },
  "language_info": {
   "codemirror_mode": {
    "name": "ipython",
    "version": 3
   },
   "file_extension": ".py",
   "mimetype": "text/x-python",
   "name": "python",
   "nbconvert_exporter": "python",
   "pygments_lexer": "ipython3",
   "version": "3.9.13"
  }
 },
 "nbformat": 4,
 "nbformat_minor": 5
}
