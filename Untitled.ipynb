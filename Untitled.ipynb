{
 "cells": [
  {
   "cell_type": "markdown",
   "id": "bbdd7938-92f0-4a89-80ba-7b1dd5c7611d",
   "metadata": {},
   "source": [
    "Today we will be doing a small project where we will be condensing down all our learnings into this single Blog.\n",
    "\n",
    "Data Description:\n",
    "\n",
    "    We will be using the data https://www.kaggle.com/datasets/mirichoi0218/insurance \n",
    "    METADATA:-\n",
    "    \n",
    "    age: age of primary beneficiary\n",
    "\n",
    "    sex: insurance contractor gender, female, male\n",
    "\n",
    "    bmi: Body mass index, providing an understanding of body, weights that are relatively high or low relative to height,\n",
    "    objective index of body weight (kg / m ^ 2) using the ratio of height to weight, ideally 18.5 to 24.9\n",
    "\n",
    "    children: Number of children covered by health insurance / Number of dependents\n",
    "\n",
    "    smoker: Smoking\n",
    "\n",
    "    region: the beneficiary's residential area in the US, northeast, southeast, southwest, northwest.\n",
    "\n",
    "    charges: Individual medical costs billed by health insurance"
   ]
  },
  {
   "cell_type": "code",
   "execution_count": 3,
   "id": "81f9ed18-b016-467d-8758-d9f951518e30",
   "metadata": {},
   "outputs": [],
   "source": [
    "# lets start by reading the dataset from some libraries and explore it!\n",
    "import pandas as pd\n",
    "import numpy as np\n",
    "import matplotlib.pyplot as plt"
   ]
  },
  {
   "cell_type": "code",
   "execution_count": 9,
   "id": "a10c781c-bfa3-467d-85e1-570606ef0a3f",
   "metadata": {},
   "outputs": [],
   "source": [
    "df = pd.read_csv('datasets/insurance.csv')"
   ]
  },
  {
   "cell_type": "code",
   "execution_count": 10,
   "id": "9a80de99-04a1-40be-acb7-6fc280711315",
   "metadata": {},
   "outputs": [
    {
     "data": {
      "text/html": [
       "<div>\n",
       "<style scoped>\n",
       "    .dataframe tbody tr th:only-of-type {\n",
       "        vertical-align: middle;\n",
       "    }\n",
       "\n",
       "    .dataframe tbody tr th {\n",
       "        vertical-align: top;\n",
       "    }\n",
       "\n",
       "    .dataframe thead th {\n",
       "        text-align: right;\n",
       "    }\n",
       "</style>\n",
       "<table border=\"1\" class=\"dataframe\">\n",
       "  <thead>\n",
       "    <tr style=\"text-align: right;\">\n",
       "      <th></th>\n",
       "      <th>age</th>\n",
       "      <th>sex</th>\n",
       "      <th>bmi</th>\n",
       "      <th>children</th>\n",
       "      <th>smoker</th>\n",
       "      <th>region</th>\n",
       "      <th>charges</th>\n",
       "    </tr>\n",
       "  </thead>\n",
       "  <tbody>\n",
       "    <tr>\n",
       "      <th>0</th>\n",
       "      <td>19</td>\n",
       "      <td>female</td>\n",
       "      <td>27.900</td>\n",
       "      <td>0</td>\n",
       "      <td>yes</td>\n",
       "      <td>southwest</td>\n",
       "      <td>16884.92400</td>\n",
       "    </tr>\n",
       "    <tr>\n",
       "      <th>1</th>\n",
       "      <td>18</td>\n",
       "      <td>male</td>\n",
       "      <td>33.770</td>\n",
       "      <td>1</td>\n",
       "      <td>no</td>\n",
       "      <td>southeast</td>\n",
       "      <td>1725.55230</td>\n",
       "    </tr>\n",
       "    <tr>\n",
       "      <th>2</th>\n",
       "      <td>28</td>\n",
       "      <td>male</td>\n",
       "      <td>33.000</td>\n",
       "      <td>3</td>\n",
       "      <td>no</td>\n",
       "      <td>southeast</td>\n",
       "      <td>4449.46200</td>\n",
       "    </tr>\n",
       "    <tr>\n",
       "      <th>3</th>\n",
       "      <td>33</td>\n",
       "      <td>male</td>\n",
       "      <td>22.705</td>\n",
       "      <td>0</td>\n",
       "      <td>no</td>\n",
       "      <td>northwest</td>\n",
       "      <td>21984.47061</td>\n",
       "    </tr>\n",
       "    <tr>\n",
       "      <th>4</th>\n",
       "      <td>32</td>\n",
       "      <td>male</td>\n",
       "      <td>28.880</td>\n",
       "      <td>0</td>\n",
       "      <td>no</td>\n",
       "      <td>northwest</td>\n",
       "      <td>3866.85520</td>\n",
       "    </tr>\n",
       "  </tbody>\n",
       "</table>\n",
       "</div>"
      ],
      "text/plain": [
       "   age     sex     bmi  children smoker     region      charges\n",
       "0   19  female  27.900         0    yes  southwest  16884.92400\n",
       "1   18    male  33.770         1     no  southeast   1725.55230\n",
       "2   28    male  33.000         3     no  southeast   4449.46200\n",
       "3   33    male  22.705         0     no  northwest  21984.47061\n",
       "4   32    male  28.880         0     no  northwest   3866.85520"
      ]
     },
     "execution_count": 10,
     "metadata": {},
     "output_type": "execute_result"
    }
   ],
   "source": [
    "df.head()"
   ]
  },
  {
   "cell_type": "code",
   "execution_count": 12,
   "id": "f2d699f1-02a8-44c6-ab4d-9f61509ab867",
   "metadata": {},
   "outputs": [
    {
     "name": "stdout",
     "output_type": "stream",
     "text": [
      "<class 'pandas.core.frame.DataFrame'>\n",
      "RangeIndex: 1338 entries, 0 to 1337\n",
      "Data columns (total 7 columns):\n",
      " #   Column    Non-Null Count  Dtype  \n",
      "---  ------    --------------  -----  \n",
      " 0   age       1338 non-null   int64  \n",
      " 1   sex       1338 non-null   object \n",
      " 2   bmi       1338 non-null   float64\n",
      " 3   children  1338 non-null   int64  \n",
      " 4   smoker    1338 non-null   object \n",
      " 5   region    1338 non-null   object \n",
      " 6   charges   1338 non-null   float64\n",
      "dtypes: float64(2), int64(2), object(3)\n",
      "memory usage: 73.3+ KB\n"
     ]
    }
   ],
   "source": [
    "## lets start by analysing/exploring dataset.\n",
    "\n",
    "df.info()"
   ]
  },
  {
   "cell_type": "markdown",
   "id": "81eb125c-8f83-4e8a-8c2d-a6e31c74d7ac",
   "metadata": {},
   "source": [
    "#### so we have 3 categorical columns. NOW! if we would have learnt some new techniques of modelling, I could have showed you  some cool data handling techniques. unfortunately, in this blog we will only be using a data cleaning technique & multiple linear regression ."
   ]
  },
  {
   "cell_type": "code",
   "execution_count": 15,
   "id": "c5dac1fa-4145-43e3-a128-cc152d479544",
   "metadata": {},
   "outputs": [],
   "source": [
    "# since we have 3 categorical columns ! we will drop them from our dataframe.\n",
    "\n",
    "# method 1 \n",
    "# df = df.drop(['region','smoker','sex'],axis=1)\n",
    "# method 2\n",
    "df = df.select_dtypes(exclude='object')\n"
   ]
  },
  {
   "cell_type": "markdown",
   "id": "dc30dcb1-8e38-41d3-99bb-fdff0e0214e4",
   "metadata": {},
   "source": [
    "#### we only need numerical columns to predict values in our  dataset!"
   ]
  },
  {
   "cell_type": "code",
   "execution_count": 17,
   "id": "3d3b4510-1f36-4505-9242-96eaf892a2a4",
   "metadata": {},
   "outputs": [
    {
     "name": "stdout",
     "output_type": "stream",
     "text": [
      "<class 'pandas.core.frame.DataFrame'>\n",
      "RangeIndex: 1338 entries, 0 to 1337\n",
      "Data columns (total 4 columns):\n",
      " #   Column    Non-Null Count  Dtype  \n",
      "---  ------    --------------  -----  \n",
      " 0   age       1338 non-null   int64  \n",
      " 1   bmi       1338 non-null   float64\n",
      " 2   children  1338 non-null   int64  \n",
      " 3   charges   1338 non-null   float64\n",
      "dtypes: float64(2), int64(2)\n",
      "memory usage: 41.9 KB\n"
     ]
    }
   ],
   "source": [
    "df.info() # the data only has 1338 rows "
   ]
  },
  {
   "cell_type": "markdown",
   "id": "35a9cea8-4390-404f-8aaf-a715a0d2ae47",
   "metadata": {},
   "source": [
    "A MAGIC approach i will tell you in this blog is !!\n",
    "\n",
    "make model first and later select the variables you want to work with :D"
   ]
  },
  {
   "cell_type": "markdown",
   "id": "cad9d56e-b28d-40a5-89cb-b5926a103a4b",
   "metadata": {},
   "source": [
    "start with splitting the data into train & test! why do we split our data in train & test ?? we will cover this topic in future blogs :D"
   ]
  },
  {
   "cell_type": "code",
   "execution_count": 33,
   "id": "529f570f-1191-4d05-b38b-94d78e26c40c",
   "metadata": {},
   "outputs": [
    {
     "name": "stdout",
     "output_type": "stream",
     "text": [
      "139684449.21449816\n"
     ]
    }
   ],
   "source": [
    "from sklearn.linear_model import LinearRegression\n",
    "from sklearn.model_selection import train_test_split\n",
    "from sklearn.metrics import mean_squared_error\n",
    "import seaborn as sns\n",
    "\n",
    "x = df.drop(['charges'],axis=1)\n",
    "y = df['charges']\n",
    "\n",
    "x_train,x_test,y_train,y_test = train_test_split(x,y)\n",
    "\n",
    "lr = LinearRegression()\n",
    "lr.fit(x_train,y_train)\n",
    "\n",
    "pred = lr.predict(x_test)\n",
    "\n",
    "print(mean_squared_error(y_test,pred))"
   ]
  },
  {
   "cell_type": "markdown",
   "id": "4b53df65-8181-4810-8eab-36422ee880c0",
   "metadata": {},
   "source": [
    "Here, we will now look at the correlation plot and see which column to keep and which one to drop !"
   ]
  },
  {
   "cell_type": "code",
   "execution_count": 23,
   "id": "7f52e158-8aa3-4072-95df-5287909b35db",
   "metadata": {},
   "outputs": [
    {
     "data": {
      "text/plain": [
       "<AxesSubplot: >"
      ]
     },
     "execution_count": 23,
     "metadata": {},
     "output_type": "execute_result"
    },
    {
     "data": {
      "image/png": "[encoded data removed]",
      "text/plain": [
       "<Figure size 432x288 with 2 Axes>"
      ]
     },
     "metadata": {
      "needs_background": "light"
     },
     "output_type": "display_data"
    }
   ],
   "source": [
    "sns.heatmap(df.corr())"
   ]
  },
  {
   "cell_type": "markdown",
   "id": "d33edf38-35f0-495a-b79e-e0c8b436c0ba",
   "metadata": {},
   "source": [
    "AGE & BMI are moderately corelated with target column, we will be dropping children column from our training set."
   ]
  },
  {
   "cell_type": "code",
   "execution_count": 29,
   "id": "8f5822d0-7813-42f1-a918-0b4df0628d3f",
   "metadata": {},
   "outputs": [
    {
     "name": "stdout",
     "output_type": "stream",
     "text": [
      "109326592.79418437\n"
     ]
    }
   ],
   "source": [
    "\n",
    "x = df.drop(['children','charges'],axis=1)\n",
    "y = df['charges']\n",
    "\n",
    "x_train,x_test,y_train,y_test = train_test_split(x,y)\n",
    "\n",
    "lr = LinearRegression()\n",
    "lr.fit(x_train,y_train)\n",
    "\n",
    "pred = lr.predict(x_test)\n",
    "\n",
    "print(mean_squared_error(y_test,pred))"
   ]
  },
  {
   "cell_type": "markdown",
   "id": "761d728f-16f6-418b-9ac6-bcea5e3f4323",
   "metadata": {},
   "source": [
    "### now that you have learnt to model. lets learn method to export a simple model:D"
   ]
  },
  {
   "cell_type": "code",
   "execution_count": 65,
   "id": "bc7fdb50-77e0-4136-a215-b870adcdbc82",
   "metadata": {},
   "outputs": [
    {
     "ename": "TypeError",
     "evalue": "file must have a 'write' attribute",
     "output_type": "error",
     "traceback": [
      "\u001b[1;31m---------------------------------------------------------------------------\u001b[0m",
      "\u001b[1;31mTypeError\u001b[0m                                 Traceback (most recent call last)",
      "Input \u001b[1;32mIn [65]\u001b[0m, in \u001b[0;36m<cell line: 3>\u001b[1;34m()\u001b[0m\n\u001b[0;32m      1\u001b[0m \u001b[38;5;28;01mimport\u001b[39;00m \u001b[38;5;21;01mpickle\u001b[39;00m\n\u001b[0;32m      2\u001b[0m \u001b[38;5;66;03m## export your model like this\u001b[39;00m\n\u001b[1;32m----> 3\u001b[0m \u001b[43mpickle\u001b[49m\u001b[38;5;241;43m.\u001b[39;49m\u001b[43mdump\u001b[49m\u001b[43m(\u001b[49m\u001b[43mlr\u001b[49m\u001b[43m,\u001b[49m\u001b[38;5;124;43m'\u001b[39;49m\u001b[38;5;124;43mfirst_project_sankhyikii.pkl\u001b[39;49m\u001b[38;5;124;43m'\u001b[39;49m\u001b[43m)\u001b[49m\n\u001b[0;32m      4\u001b[0m \u001b[38;5;66;03m## import your model \u001b[39;00m\n\u001b[0;32m      5\u001b[0m df \u001b[38;5;241m=\u001b[39m pickle\u001b[38;5;241m.\u001b[39mload(\u001b[38;5;124m'\u001b[39m\u001b[38;5;124mfirst_project_sankhyikii.pkl\u001b[39m\u001b[38;5;124m'\u001b[39m)\n",
      "\u001b[1;31mTypeError\u001b[0m: file must have a 'write' attribute"
     ]
    }
   ],
   "source": [
    "import pickle\n",
    "## export your model like this\n",
    "pickle.dump(lr,'first_project_sankhyikii.pkl')\n",
    "## import your model \n",
    "df = pickle.load('first_project_sankhyikii.pkl')\n",
    "## that's how easy it is !!:D"
   ]
  },
  {
   "cell_type": "markdown",
   "id": "65a99afd-efdd-42ca-91c3-dee979d0b070",
   "metadata": {},
   "source": [
    "so today we learnt very sweet lessons:\n",
    "1. when trying out your model, make a model first and then select features :D\n",
    "2. remove uncorelated variables from your training set \n",
    "3. for training a linear model always use numerical frame."
   ]
  }
 ],
 "metadata": {
  "kernelspec": {
   "display_name": "Python 3 (ipykernel)",
   "language": "python",
   "name": "python3"
  },
  "language_info": {
   "codemirror_mode": {
    "name": "ipython",
    "version": 3
   },
   "file_extension": ".py",
   "mimetype": "text/x-python",
   "name": "python",
   "nbconvert_exporter": "python",
   "pygments_lexer": "ipython3",
   "version": "3.8.10"
  }
 },
 "nbformat": 4,
 "nbformat_minor": 5
}
